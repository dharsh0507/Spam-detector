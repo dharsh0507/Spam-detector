{
 "cells": [
  {
   "cell_type": "code",
   "execution_count": 10,
   "id": "2b540573-e0c6-46bb-949e-6495a76d76e8",
   "metadata": {
    "scrolled": true
   },
   "outputs": [
    {
     "name": "stdout",
     "output_type": "stream",
     "text": [
      "✅ Accuracy: 0.9928251121076234\n",
      "\n",
      "Confusion Matrix:\n",
      " [[966   0]\n",
      " [  8 141]]\n",
      "\n",
      "Classification Report:\n",
      "               precision    recall  f1-score   support\n",
      "\n",
      "           0       0.99      1.00      1.00       966\n",
      "           1       1.00      0.95      0.97       149\n",
      "\n",
      "    accuracy                           0.99      1115\n",
      "   macro avg       1.00      0.97      0.98      1115\n",
      "weighted avg       0.99      0.99      0.99      1115\n",
      "\n",
      "\n",
      "Result: Spam 🚨\n"
     ]
    }
   ],
   "source": [
    "import pandas as pd\n",
    "from sklearn.model_selection import train_test_split\n",
    "from sklearn.feature_extraction.text import CountVectorizer\n",
    "from sklearn.naive_bayes import MultinomialNB\n",
    "from sklearn.metrics import accuracy_score, confusion_matrix, classification_report\n",
    "\n",
    "# Load dataset\n",
    "data = pd.read_csv(\"spam.csv\", encoding=\"latin-1\")[['Category', 'Message']]\n",
    "data.columns = ['label','message']   # rename properly\n",
    "\n",
    "# Encode labels: ham=0, spam=1\n",
    "data['label'] = data['label'].map({'ham':0, 'spam':1})\n",
    "\n",
    "# Features and target\n",
    "X = data['message']\n",
    "y = data['label']\n",
    "\n",
    "# Train-test split\n",
    "X_train, X_test, y_train, y_test = train_test_split(X, y, test_size=0.2, random_state=42)\n",
    "\n",
    "# Vectorize text\n",
    "vectorizer = CountVectorizer()\n",
    "X_train_vec = vectorizer.fit_transform(X_train)\n",
    "X_test_vec = vectorizer.transform(X_test)\n",
    "\n",
    "# Train model\n",
    "model = MultinomialNB()\n",
    "model.fit(X_train_vec, y_train)\n",
    "\n",
    "# Predictions\n",
    "y_pred = model.predict(X_test_vec)\n",
    "\n",
    "# Evaluation\n",
    "print(\"✅ Accuracy:\", accuracy_score(y_test, y_pred))\n",
    "print(\"\\nConfusion Matrix:\\n\", confusion_matrix(y_test, y_pred))\n",
    "print(\"\\nClassification Report:\\n\", classification_report(y_test, y_pred))\n",
    "\n",
    "# Test with a new email\n",
    "test_email = [\"Click Here to claim your reward\"]\n",
    "test_vec = vectorizer.transform(test_email)\n",
    "prediction = model.predict(test_vec)\n",
    "print(\"\\nResult:\", \"Spam 🚨\" if prediction[0]==1 else \"Ham (Not Spam) ✅\")\n"
   ]
  },
  {
   "cell_type": "code",
   "execution_count": null,
   "id": "807a35e3-ef41-472e-96d4-5202035eff7b",
   "metadata": {},
   "outputs": [],
   "source": []
  }
 ],
 "metadata": {
  "kernelspec": {
   "display_name": "Python 3 (ipykernel)",
   "language": "python",
   "name": "python3"
  },
  "language_info": {
   "codemirror_mode": {
    "name": "ipython",
    "version": 3
   },
   "file_extension": ".py",
   "mimetype": "text/x-python",
   "name": "python",
   "nbconvert_exporter": "python",
   "pygments_lexer": "ipython3",
   "version": "3.11.3"
  }
 },
 "nbformat": 4,
 "nbformat_minor": 5
}
